{
 "cells": [
  {
   "cell_type": "code",
   "execution_count": 1,
   "metadata": {
    "slideshow": {
     "slide_type": "skip"
    }
   },
   "outputs": [],
   "source": [
    "from IPython.display import YouTubeVideo"
   ]
  },
  {
   "cell_type": "markdown",
   "metadata": {
    "slideshow": {
     "slide_type": "slide"
    }
   },
   "source": [
    "<center>\n",
    "    <h2>Image Segmentation using Fully Convolutional Neural Networks</h2>\n",
    "    <img src=\"https://storage.googleapis.com/mrteera/codemania111/teera-bike.png\" style=\"width:700px\">\n",
    "</center>"
   ]
  },
  {
   "cell_type": "markdown",
   "metadata": {
    "slideshow": {
     "slide_type": "slide"
    }
   },
   "source": [
    "<center>\n",
    "    <h1>Who am I?</h1>\n",
    "    <img src=\"https://storage.googleapis.com/mrteera/codemania111/whoami.png\" style=\"width:700px\">\n",
    "</center>"
   ]
  },
  {
   "cell_type": "markdown",
   "metadata": {
    "slideshow": {
     "slide_type": "slide"
    }
   },
   "source": [
    "<center>\n",
    "    <img src=\"https://storage.googleapis.com/mrteera/codemania111/github-ms.jpg\">\n",
    "    <h2>https://github.com/mrteera/CodeMania111-FCN</h2>\n",
    "    <font size=\"1\">Photo credit: https://www.theregister.co.uk/2015/01/15/codeplex_repository_out_of_favour_as_microsoft_moves_major_projects_to_github/</font>\n",
    "</center>"
   ]
  },
  {
   "cell_type": "markdown",
   "metadata": {
    "slideshow": {
     "slide_type": "slide"
    }
   },
   "source": [
    "## Agenda\n",
    "\n",
    "- Convolutional Neural Network (Image Classification)\n",
    "- Fully Convolutional Neural Network (Image Segmentation)\n",
    "- Train Machine Learning Model for Only a Half Price on Preemtible VM instance on GCP"
   ]
  },
  {
   "cell_type": "markdown",
   "metadata": {
    "slideshow": {
     "slide_type": "slide"
    }
   },
   "source": [
    "<center>\n",
    "    <h1>Image Classification Development</h1>\n",
    "    <img src=\"https://cdn-images-1.medium.com/max/1600/1*C6phJa5MiCKqYtnNor3e7Q.png\" style=\"width:900px\">\n",
    "    <font size=\"2\">source: https://shift.newco.co/there-is-one-thing-that-computers-will-never-beat-us-at-f66af30565f0</font>\n",
    "</center>"
   ]
  },
  {
   "cell_type": "markdown",
   "metadata": {
    "slideshow": {
     "slide_type": "slide"
    }
   },
   "source": [
    "<center>\n",
    "    <img src=\"https://storage.googleapis.com/mrteera/codemania111/dawnbench.png\" style=\"width:900px\">\n",
    "    <font size=\"2\">source: https://dawn.cs.stanford.edu/benchmark/ImageNet/train.html</font>\n",
    "</center>"
   ]
  },
  {
   "cell_type": "markdown",
   "metadata": {
    "slideshow": {
     "slide_type": "fragment"
    }
   },
   "source": [
    "<center>\n",
    "    <h1>Deep Learning Framework</h1>\n",
    "    <img src=\"https://storage.googleapis.com/mrteera/codemania111/deep_learning_framework.png\" style=\"width:900px\">\n",
    "    <font size=\"2\">source: https://www.slideshare.net/yutakashino/pytorch</font>\n",
    "</center>"
   ]
  },
  {
   "cell_type": "markdown",
   "metadata": {
    "slideshow": {
     "slide_type": "slide"
    }
   },
   "source": [
    "<center>\n",
    "    <h1>The Matrix</h1>\n",
    "    <img src=\"https://storage.googleapis.com/mrteera/codemania111/thematrix.jpg\" style=\"width:900px\">\n",
    "</center>"
   ]
  },
  {
   "cell_type": "markdown",
   "metadata": {
    "slideshow": {
     "slide_type": "slide"
    }
   },
   "source": [
    "<center>\n",
    "    <h1>Image as a Matrix</h1>\n",
    "    <img src=\"https://camo.githubusercontent.com/12403fd6df7bfd0f6df4f5d1d4df487bdccf9ba4/687474703a2f2f787264732e61636d2e6f72672f626c6f672f77702d636f6e74656e742f75706c6f6164732f323031362f30362f466967757265312e706e67\" style=\"width:700px\">\n",
    "</center>"
   ]
  },
  {
   "cell_type": "markdown",
   "metadata": {
    "slideshow": {
     "slide_type": "slide"
    }
   },
   "source": [
    "<center>\n",
    "    <h1>Inspiration from Human Brain</h1>\n",
    "    <img src=\"https://storage.googleapis.com/mrteera/codemania111/cnn-brain.png\" style=\"width:700px\">\n",
    "    <font size=\"2\">source: https://neurdiness.wordpress.com/2018/05/17/deep-convolutional-neural-networks-as-models-of-the-visual-system-qa/</font>\n",
    "</center>"
   ]
  },
  {
   "cell_type": "markdown",
   "metadata": {
    "slideshow": {
     "slide_type": "slide"
    }
   },
   "source": [
    "<center>\n",
    "    <h1>What is convolution?</h1>\n",
    "</center>"
   ]
  },
  {
   "cell_type": "markdown",
   "metadata": {
    "slideshow": {
     "slide_type": "fragment"
    }
   },
   "source": [
    "<center>\n",
    "    <img src=\"https://ujwlkarn.files.wordpress.com/2016/08/screen-shot-2016-08-05-at-11-03-00-pm.png\" style=\"width:300px\">\n",
    "    <font size=\"2\">source: https://ujjwalkarn.me/2016/08/11/intuitive-explanation-convnets/</font>\n",
    "</center>"
   ]
  },
  {
   "cell_type": "markdown",
   "metadata": {
    "slideshow": {
     "slide_type": "slide"
    }
   },
   "source": [
    "<center>\n",
    "    <h1>Convolutional Neural Network</h1>\n",
    "    <img src=\"https://storage.googleapis.com/mrteera/codemania111/convnet.jpeg\" style=\"width:700px\">\n",
    "    <font size=\"2\">source: http://cs231n.github.io/convolutional-networks/</font>\n",
    "</center>"
   ]
  },
  {
   "cell_type": "markdown",
   "metadata": {
    "slideshow": {
     "slide_type": "slide"
    }
   },
   "source": [
    "<center>\n",
    "    <h1>Activation Function (ReLU)</h1>\n",
    "    <img src=\"https://storage.googleapis.com/mrteera/codemania111/relu.png\" style=\"width:600px\">\n",
    "    <font size=\"2\">source: https://www.youtube.com/watch?v=m0pIlLfpXWE</font>\n",
    "</center>"
   ]
  },
  {
   "cell_type": "markdown",
   "metadata": {
    "slideshow": {
     "slide_type": "slide"
    }
   },
   "source": [
    "<center>\n",
    "    <h1>ReLU Example</h1>\n",
    "    <img src=\"https://storage.googleapis.com/mrteera/codemania111/relu_example.png\" style=\"width:700px\">\n",
    "    <font size=\"2\">source: https://ujjwalkarn.me/2016/08/11/intuitive-explanation-convnets/</font>\n",
    "</center>"
   ]
  },
  {
   "cell_type": "markdown",
   "metadata": {
    "slideshow": {
     "slide_type": "slide"
    }
   },
   "source": [
    "<center>\n",
    "    <h1>Max Pooling</h1>\n",
    "    <img src=\"https://storage.googleapis.com/mrteera/codemania111/max_pooling.png\" style=\"width:700px\">\n",
    "    <font size=\"2\">source: https://computersciencewiki.org/index.php/Max-pooling_/_Pooling</font>\n",
    "</center>"
   ]
  },
  {
   "cell_type": "markdown",
   "metadata": {
    "slideshow": {
     "slide_type": "slide"
    }
   },
   "source": [
    "Softmax"
   ]
  },
  {
   "cell_type": "markdown",
   "metadata": {
    "slideshow": {
     "slide_type": "skip"
    }
   },
   "source": [
    "Skin Cancer Image Classification\n",
    "https://aiindex.org/2017-report.pdf\n",
    "https://cs.stanford.edu/people/esteva/nature/\n",
    "https://youtu.be/toK1OSLep3s?t=7m15s\n",
    "In a 2017 Nature article, Esteva et al. describe an AI system trained on a data set of 129,450 clinical images of 2,032 different diseases and compare its diagnostic performance against 21 board-certified dermatologists. They find the AI system capable of classifying skin cancer at a level of competence comparable to the dermatologists."
   ]
  },
  {
   "cell_type": "markdown",
   "metadata": {
    "slideshow": {
     "slide_type": "slide"
    }
   },
   "source": [
    "## Image Segmentation in Self-Driving Car"
   ]
  },
  {
   "cell_type": "code",
   "execution_count": 2,
   "metadata": {
    "scrolled": true,
    "slideshow": {
     "slide_type": "fragment"
    }
   },
   "outputs": [
    {
     "data": {
      "image/jpeg": "[encoded data removed]",
      "text/html": [
       "\n",
       "        <iframe\n",
       "            width=\"1024\"\n",
       "            height=\"768\"\n",
       "            src=\"https://www.youtube.com/embed/s8Ui_kV9dhw\"\n",
       "            frameborder=\"0\"\n",
       "            allowfullscreen\n",
       "        ></iframe>\n",
       "        "
      ],
      "text/plain": [
       "<IPython.lib.display.YouTubeVideo at 0x7f3379287320>"
      ]
     },
     "execution_count": 2,
     "metadata": {},
     "output_type": "execute_result"
    }
   ],
   "source": [
    "YouTubeVideo('s8Ui_kV9dhw', 1024, 768)"
   ]
  },
  {
   "cell_type": "markdown",
   "metadata": {
    "slideshow": {
     "slide_type": "slide"
    }
   },
   "source": [
    "Fully Convolutional Neural Network"
   ]
  },
  {
   "cell_type": "markdown",
   "metadata": {
    "slideshow": {
     "slide_type": "slide"
    }
   },
   "source": [
    "Preemtible VM instance on GCP"
   ]
  },
  {
   "cell_type": "code",
   "execution_count": 3,
   "metadata": {
    "slideshow": {
     "slide_type": "slide"
    }
   },
   "outputs": [
    {
     "data": {
      "text/markdown": [
       "<center><h1 style=font-size:140px>Game 24<br>7 7 9 5</center></h1>"
      ],
      "text/plain": [
       "<IPython.core.display.Markdown object>"
      ]
     },
     "metadata": {},
     "output_type": "display_data"
    }
   ],
   "source": [
    "import game24\n",
    "\n",
    "answers = game24.get_question()"
   ]
  },
  {
   "cell_type": "code",
   "execution_count": 4,
   "metadata": {
    "slideshow": {
     "slide_type": "slide"
    }
   },
   "outputs": [
    {
     "data": {
      "text/markdown": [
       "<center><h1 style=font-size:55px>Answers<br></center></h1>"
      ],
      "text/plain": [
       "<IPython.core.display.Markdown object>"
      ]
     },
     "metadata": {},
     "output_type": "display_data"
    },
    {
     "data": {
      "text/markdown": [
       "<center><h1 style=font-size:40px>((9 - 7) * (5 + 7))<br></center></h1>"
      ],
      "text/plain": [
       "<IPython.core.display.Markdown object>"
      ]
     },
     "metadata": {},
     "output_type": "display_data"
    },
    {
     "data": {
      "text/markdown": [
       "<center><h1 style=font-size:40px>((5 + 7) * (9 - 7))<br></center></h1>"
      ],
      "text/plain": [
       "<IPython.core.display.Markdown object>"
      ]
     },
     "metadata": {},
     "output_type": "display_data"
    },
    {
     "data": {
      "text/markdown": [
       "<center><h1 style=font-size:40px>((7 + 5) * (9 - 7))<br></center></h1>"
      ],
      "text/plain": [
       "<IPython.core.display.Markdown object>"
      ]
     },
     "metadata": {},
     "output_type": "display_data"
    },
    {
     "data": {
      "text/markdown": [
       "<center><h1 style=font-size:40px>((9 - 7) * (7 + 5))<br></center></h1>"
      ],
      "text/plain": [
       "<IPython.core.display.Markdown object>"
      ]
     },
     "metadata": {},
     "output_type": "display_data"
    }
   ],
   "source": [
    "game24.display(answers)"
   ]
  },
  {
   "cell_type": "markdown",
   "metadata": {
    "slideshow": {
     "slide_type": "slide"
    }
   },
   "source": [
    "<center>\n",
    "    <h2>3.times { puts “Thank you ❤️\" }</h2>\n",
    "</center>"
   ]
  },
  {
   "cell_type": "markdown",
   "metadata": {
    "slideshow": {
     "slide_type": "fragment"
    }
   },
   "source": [
    "Thank you ❤️<br/>\n",
    "Thank you ❤️<br/>\n",
    "Thank you ❤️"
   ]
  },
  {
   "cell_type": "markdown",
   "metadata": {
    "slideshow": {
     "slide_type": "slide"
    }
   },
   "source": [
    "<center>\n",
    "    <h1>Question?</h1>\n",
    "</center>"
   ]
  }
 ],
 "metadata": {
  "celltoolbar": "Slideshow",
  "kernelspec": {
   "display_name": "Python 3",
   "language": "python",
   "name": "python3"
  },
  "language_info": {
   "codemirror_mode": {
    "name": "ipython",
    "version": 3
   },
   "file_extension": ".py",
   "mimetype": "text/x-python",
   "name": "python",
   "nbconvert_exporter": "python",
   "pygments_lexer": "ipython3",
   "version": "3.5.2"
  }
 },
 "nbformat": 4,
 "nbformat_minor": 2
}
